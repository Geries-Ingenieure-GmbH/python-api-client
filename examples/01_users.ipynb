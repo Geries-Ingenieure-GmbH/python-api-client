{
  "cells": [
    {
      "cell_type": "markdown",
      "metadata": {
        "id": "ngTJ3YbHlb8s"
      },
      "source": [
        "# Mergin Maps Users Management"
      ]
    },
    {
      "cell_type": "markdown",
      "metadata": {
        "id": "q0eLjSMzlwdx"
      },
      "source": [
        "The Mergin Maps client allows you to manage your workspace users, their roles, and project-specific permissions. Every user has a workspace role and a project role. A project role is defined for a specific project and overrides the workspace role for that project. For more details, see the [permissions documentation](https://dev.merginmaps.com/docs/manage/permissions/).\n",
        "\n",
        "See the [API reference](https://merginmaps.com/docs/dev/integration/) for more details about methods used in this notebook."
      ]
    },
    {
      "cell_type": "markdown",
      "metadata": {
        "id": "IKmFEjG-mmL6"
      },
      "source": [
        "First let's install mergin maps client"
      ]
    },
    {
      "cell_type": "code",
      "execution_count": null,
      "metadata": {
        "id": "I_vpP6NnmqV7"
      },
      "outputs": [],
      "source": [
        "!pip install mergin-client"
      ]
    },
    {
      "cell_type": "markdown",
      "metadata": {
        "id": "u05lxbRQm2VF"
      },
      "source": [
        "Login to Mergin Maps using your workspace user with `Owner` permission."
      ]
    },
    {
      "cell_type": "code",
      "execution_count": null,
      "metadata": {
        "colab": {
          "base_uri": "https://localhost:8080/"
        },
        "executionInfo": {
          "elapsed": 1822,
          "status": "ok",
          "timestamp": 1748364457967,
          "user": {
            "displayName": "Fernando Ribeiro",
            "userId": "15488710231554262191"
          },
          "user_tz": -60
        },
        "id": "dWQorVqZnRNl",
        "outputId": "778487c5-b0b5-4a7f-a024-33122e49b6fb",
        "trusted": true
      },
      "outputs": [],
      "source": [
        "# Use here your login username and password\n",
        "LOGIN = \"...\"\n",
        "PASSWORD = \"...\"\n",
        "\n",
        "import mergin\n",
        "\n",
        "client = mergin.MerginClient(login=LOGIN, password=PASSWORD)"
      ]
    },
    {
      "cell_type": "markdown",
      "metadata": {
        "id": "gFN3jXIjntwf"
      },
      "source": [
        "Let's create a workspace and project as base for our users management example.\n",
        "\n",
        "Set the `WORKSPACE` variable to your desired workspace name and the `PROJECT` variable to the name of the project created in your workspace."
      ]
    },
    {
      "cell_type": "code",
      "execution_count": null,
      "metadata": {
        "executionInfo": {
          "elapsed": 745,
          "status": "ok",
          "timestamp": 1748364795430,
          "user": {
            "displayName": "Fernando Ribeiro",
            "userId": "15488710231554262191"
          },
          "user_tz": -60
        },
        "id": "27rA4VfgoJjy"
      },
      "outputs": [],
      "source": [
        "# Add here your existing workspace name and the new project name\n",
        "WORKSPACE = \"...\"\n",
        "PROJECT = \"...\"\n",
        "\n",
        "# Create new workspace\n",
        "# INFO: Only uncomment if you are able to create a new workspace. Mergin Maps free tier only allows for 1 workspace per user. In this case use your existing workspace.\n",
        "# client.create_workspace(WORKSPACE)\n",
        "\n",
        "# Create new project\n",
        "client.create_project(project_name=PROJECT, namespace=WORKSPACE)"
      ]
    },
    {
      "cell_type": "markdown",
      "metadata": {
        "id": "SXimIDIDqb9J"
      },
      "source": [
        "Create some users on your Mergin Maps example workspace from the provided example file in `01_users_assets/users.csv` with random permissions."
      ]
    },
    {
      "cell_type": "code",
      "execution_count": null,
      "metadata": {
        "trusted": true
      },
      "outputs": [
        {
          "name": "stdout",
          "output_type": "stream",
          "text": [
            "WORKSPACE_ID: 15639\n"
          ]
        }
      ],
      "source": [
        "# First, let's get workspace ID\n",
        "WORKSPACE_ID = None\n",
        "for p in client.workspaces_list():\n",
        "  if p['name'] == WORKSPACE:\n",
        "    WORKSPACE_ID = p['id']\n",
        "\n",
        "print(f\"WORKSPACE_ID: {WORKSPACE_ID}\")"
      ]
    },
    {
      "cell_type": "markdown",
      "metadata": {},
      "source": [
        "We can now use the client to create multiple users at once in your workspace by importing them from a CSV file. In this case, we will use the example users with random choice of password and workspace role. Username is optional, Megin Maps will generate username from email address."
      ]
    },
    {
      "cell_type": "code",
      "execution_count": null,
      "metadata": {
        "id": "Lp351dFYquVs"
      },
      "outputs": [
        {
          "name": "stdout",
          "output_type": "stream",
          "text": [
            "User with email jdoe@example.com created, password: PpWVMDIpGB164\n",
            "User with email asmith@example.com created, password: yvhWPxvZkU230\n",
            "User with email bwilliams@example.com created, password: ofgPmxerDW473\n",
            "User with email cjohnson@example.com created, password: ktAhUKuOnu295\n",
            "User with email omartin@example.com created, password: hIWhvYoNNh661\n"
          ]
        }
      ],
      "source": [
        "from os.path import join\n",
        "import csv\n",
        "import string\n",
        "import random\n",
        "\n",
        "from mergin.common import WorkspaceRole\n",
        "\n",
        "filename = \"01_users_assets/users.csv\"\n",
        "\n",
        "with open(filename, mode=\"r\", newline=\"\", encoding=\"utf-8\") as csvfile:\n",
        "    reader = csv.reader(csvfile)\n",
        "    header = next(reader)  # Skip header\n",
        "    for row in reader:\n",
        "        username = row[0]\n",
        "        email = row[1]\n",
        "        # add new mergin maps user\n",
        "        password = \"\".join(\n",
        "            random.choices(string.ascii_uppercase + string.ascii_lowercase, k=10) + random.choices(string.digits, k=3)\n",
        "        )\n",
        "        client.create_user(\n",
        "            email=email,\n",
        "            password=password,\n",
        "            workspace_id=WORKSPACE_ID,\n",
        "            workspace_role=WorkspaceRole.READER,\n",
        "            username=username,\n",
        "        )\n",
        "        print(f\"User with email {email} created, password: {password}\")"
      ]
    },
    {
      "cell_type": "markdown",
      "metadata": {},
      "source": [
        "We can now list all users in workspace using `list_workspace_members` method."
      ]
    },
    {
      "cell_type": "code",
      "execution_count": 15,
      "metadata": {},
      "outputs": [
        {
          "name": "stdout",
          "output_type": "stream",
          "text": [
            "[{'email': 'asmith@example.com', 'id': 22597, 'username': 'asmith', 'workspace_role': 'reader'}, {'email': 'bwilliams@example.com', 'id': 22598, 'username': 'bwilliams', 'workspace_role': 'reader'}, {'email': 'cjohnson@example.com', 'id': 22599, 'username': 'cjohnson', 'workspace_role': 'reader'}, {'email': 'jdoe@example.com', 'id': 22596, 'username': 'jdoe', 'workspace_role': 'reader'}, {'email': 'marcel.kocisek+r22overviews@lutraconsulting.co.uk', 'id': 12800, 'username': 'r22overviews', 'workspace_role': 'owner'}, {'email': 'omartin@example.com', 'id': 22600, 'username': 'omartin', 'workspace_role': 'reader'}]\n"
          ]
        }
      ],
      "source": [
        "members = client.list_workspace_members(WORKSPACE_ID)\n",
        "print(members)"
      ]
    },
    {
      "cell_type": "markdown",
      "metadata": {
        "id": "OoCFI9u7uClQ"
      },
      "source": [
        "Let's change workspace permission level for a specific user to `EDITOR`."
      ]
    },
    {
      "cell_type": "code",
      "execution_count": null,
      "metadata": {
        "id": "6QG8Smj2uI2l"
      },
      "outputs": [
        {
          "name": "stdout",
          "output_type": "stream",
          "text": [
            "Changing role of user asmith to editor\n"
          ]
        },
        {
          "data": {
            "text/plain": [
              "{'email': 'asmith@example.com',\n",
              " 'id': 22597,\n",
              " 'projects_roles': [],\n",
              " 'username': 'asmith',\n",
              " 'workspace_role': 'editor'}"
            ]
          },
          "execution_count": 18,
          "metadata": {},
          "output_type": "execute_result"
        }
      ],
      "source": [
        "new_editor = members[0]\n",
        "print(f\"Changing role of user {new_editor['username']} to editor\")\n",
        "client.update_workspace_member(\n",
        "    user_id=new_editor.get(\"id\", 0), workspace_id=WORKSPACE_ID, workspace_role=WorkspaceRole.EDITOR\n",
        ")"
      ]
    },
    {
      "cell_type": "markdown",
      "metadata": {
        "id": "PpSxZfRfujj7"
      },
      "source": [
        "The user is now an editor for the entire workspace and every project within it. If you want to change the user's role to 'writer' for a specific project, you need to add them as a project collaborator."
      ]
    },
    {
      "cell_type": "code",
      "execution_count": null,
      "metadata": {
        "id": "5_7lhNhVuukI"
      },
      "outputs": [
        {
          "data": {
            "text/plain": [
              "{'email': 'asmith@example.com',\n",
              " 'id': 22597,\n",
              " 'project_role': 'writer',\n",
              " 'role': 'writer',\n",
              " 'username': 'asmith',\n",
              " 'workspace_role': 'editor'}"
            ]
          },
          "execution_count": 21,
          "metadata": {},
          "output_type": "execute_result"
        }
      ],
      "source": [
        "from mergin.common import ProjectRole\n",
        "\n",
        "# find project id of project used in this example\n",
        "PROJECT_ID = None\n",
        "for p in client.projects_list(namespace=WORKSPACE):\n",
        "    if p[\"name\"] == PROJECT:\n",
        "        PROJECT_ID = p[\"id\"]\n",
        "\n",
        "\n",
        "client.add_project_collaborator(\n",
        "    user=new_editor.get(\"email\", \"\"), project_id=PROJECT_ID, project_role=ProjectRole.WRITER\n",
        ")"
      ]
    },
    {
      "cell_type": "markdown",
      "metadata": {},
      "source": [
        "We can now see that the user has beed added to project with different role than the `workspace_role`. Project role is now `writer`."
      ]
    },
    {
      "cell_type": "markdown",
      "metadata": {},
      "source": [
        "We can now upgrade user to full control over project."
      ]
    },
    {
      "cell_type": "code",
      "execution_count": 22,
      "metadata": {},
      "outputs": [
        {
          "data": {
            "text/plain": [
              "{'email': 'asmith@example.com',\n",
              " 'id': 22597,\n",
              " 'project_role': 'owner',\n",
              " 'role': 'owner',\n",
              " 'username': 'asmith',\n",
              " 'workspace_role': 'editor'}"
            ]
          },
          "execution_count": 22,
          "metadata": {},
          "output_type": "execute_result"
        }
      ],
      "source": [
        "client.update_project_collaborator(\n",
        "    user_id=new_editor.get(\"id\", 0), project_id=PROJECT_ID, project_role=ProjectRole.OWNER\n",
        ")"
      ]
    },
    {
      "cell_type": "markdown",
      "metadata": {},
      "source": [
        "To simply remove that user from project and use his default role, you can use the `remove_project_collaborator` method."
      ]
    },
    {
      "cell_type": "code",
      "execution_count": 23,
      "metadata": {},
      "outputs": [],
      "source": [
        "client.remove_project_collaborator(\n",
        "    user_id=new_editor.get(\"id\", 0), project_id=PROJECT_ID\n",
        ")"
      ]
    },
    {
      "cell_type": "markdown",
      "metadata": {},
      "source": [
        "Check which users have access to the project using `list_project_collaborators` method."
      ]
    },
    {
      "cell_type": "code",
      "execution_count": 24,
      "metadata": {},
      "outputs": [
        {
          "data": {
            "text/plain": [
              "[{'email': 'asmith@example.com',\n",
              "  'id': 22597,\n",
              "  'project_role': None,\n",
              "  'role': 'editor',\n",
              "  'username': 'asmith',\n",
              "  'workspace_role': 'editor'},\n",
              " {'email': 'bwilliams@example.com',\n",
              "  'id': 22598,\n",
              "  'project_role': None,\n",
              "  'role': 'reader',\n",
              "  'username': 'bwilliams',\n",
              "  'workspace_role': 'reader'},\n",
              " {'email': 'cjohnson@example.com',\n",
              "  'id': 22599,\n",
              "  'project_role': None,\n",
              "  'role': 'reader',\n",
              "  'username': 'cjohnson',\n",
              "  'workspace_role': 'reader'},\n",
              " {'email': 'jdoe@example.com',\n",
              "  'id': 22596,\n",
              "  'project_role': None,\n",
              "  'role': 'reader',\n",
              "  'username': 'jdoe',\n",
              "  'workspace_role': 'reader'},\n",
              " {'email': 'marcel.kocisek+r22overviews@lutraconsulting.co.uk',\n",
              "  'id': 12800,\n",
              "  'project_role': None,\n",
              "  'role': 'owner',\n",
              "  'username': 'r22overviews',\n",
              "  'workspace_role': 'owner'},\n",
              " {'email': 'omartin@example.com',\n",
              "  'id': 22600,\n",
              "  'project_role': None,\n",
              "  'role': 'reader',\n",
              "  'username': 'omartin',\n",
              "  'workspace_role': 'reader'}]"
            ]
          },
          "execution_count": 24,
          "metadata": {},
          "output_type": "execute_result"
        }
      ],
      "source": [
        "client.list_project_collaborators(project_id=PROJECT_ID)"
      ]
    },
    {
      "cell_type": "markdown",
      "metadata": {},
      "source": [
        "Remove a user from an workspace to completely remove them from every project."
      ]
    },
    {
      "cell_type": "code",
      "execution_count": 25,
      "metadata": {
        "trusted": true
      },
      "outputs": [],
      "source": [
        "client.remove_workspace_member(user_id=new_editor.get(\"id\", 0), workspace_id=WORKSPACE_ID)"
      ]
    }
  ],
  "metadata": {
    "colab": {
      "authorship_tag": "ABX9TyPXXcFNdfLOsA7CkWfkKXfJ",
      "collapsed_sections": [
        "x8IVfy9K5Z4l",
        "7VMIPQo2yTmQ"
      ],
      "provenance": []
    },
    "kernelspec": {
      "display_name": "python-api-client",
      "language": "python",
      "name": "python3"
    },
    "language_info": {
      "codemirror_mode": {
        "name": "ipython",
        "version": 3
      },
      "file_extension": ".py",
      "mimetype": "text/x-python",
      "name": "python",
      "nbconvert_exporter": "python",
      "pygments_lexer": "ipython3",
      "version": "3.10.14"
    }
  },
  "nbformat": 4,
  "nbformat_minor": 4
}

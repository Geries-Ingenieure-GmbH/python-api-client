{
  "cells": [
    {
      "cell_type": "markdown",
      "id": "1db9d8bc-6de0-47dc-90f3-400e395bc3e2",
      "metadata": {},
      "source": [
        "# Mergin Maps Projects Management"
      ]
    },
    {
      "cell_type": "markdown",
      "id": "8c4330a7-a7ad-441d-9f2d-16d5e0dfc8f7",
      "metadata": {},
      "source": [
        "Mergin Maps API allows you to manage your projects in a simple and effective way. See the [API reference](https://merginmaps.com/docs/dev/integration/) for more details about methods used in this notebook.\n",
        "\n",
        "First let's install mergin maps client (if not installed yet)"
      ]
    },
    {
      "cell_type": "code",
      "execution_count": null,
      "id": "fb42bae4-f313-4196-9299-2c8d2dacca11",
      "metadata": {
        "trusted": true
      },
      "outputs": [],
      "source": [
        "!pip install mergin-client"
      ]
    },
    {
      "cell_type": "markdown",
      "id": "f7517ef0-7b3f-47f6-8140-c3076ac02215",
      "metadata": {},
      "source": [
        "Login to Mergin Maps using your an existing user"
      ]
    },
    {
      "cell_type": "code",
      "execution_count": null,
      "id": "c380887c-271b-48b6-b435-ed8628dd0a81",
      "metadata": {
        "trusted": true
      },
      "outputs": [],
      "source": [
        "# Use here your login username and password\n",
        "LOGIN=\"...\"\n",
        "PASSWORD=\"...\"\n",
        "\n",
        "import mergin\n",
        "\n",
        "client = mergin.MerginClient(login=LOGIN, password=PASSWORD)"
      ]
    },
    {
      "cell_type": "markdown",
      "id": "46bcada4-5dac-44fe-8c63-5f35932404c4",
      "metadata": {},
      "source": [
        "Now you can use the client to call the API. Let's try to clone the project available for this example (`lutraconsulting/Vienna trees example`) to your Mergin Maps projects. \n",
        "\n",
        "You need to specify a workspace and project where our sample project will be cloned to. We can split our template to two projects."
      ]
    },
    {
      "cell_type": "code",
      "execution_count": null,
      "id": "1dfb7e3c-bf38-4867-b47e-b895c4672212",
      "metadata": {
        "trusted": true
      },
      "outputs": [],
      "source": [
        "WORKSPACE = \"...\"\n",
        "PROJECT = \"project\"\n",
        "\n",
        "client.clone_project(\n",
        "    source_project_path=f\"lutraconsulting/Vienna trees example\", cloned_project_name=f\"{WORKSPACE}/{PROJECT}-team-a\"\n",
        ")\n",
        "client.clone_project(\n",
        "    source_project_path=f\"lutraconsulting/Vienna trees example\", cloned_project_name=f\"{WORKSPACE}/{PROJECT}-team-b\"\n",
        ")"
      ]
    },
    {
      "cell_type": "markdown",
      "id": "75b88a5e-efc3-4569-a15e-6f49c591180f",
      "metadata": {},
      "source": [
        "Download locally your newly created Mergin Maps project to add prepare data for your teams (Team A and Team B)."
      ]
    },
    {
      "cell_type": "code",
      "execution_count": 7,
      "id": "34f8279f-76b9-452b-b067-20923f0783b6",
      "metadata": {
        "trusted": true
      },
      "outputs": [],
      "source": [
        "# download project to local folder.\n",
        "LOCAL_FOLDER_TEAM_A=\"/tmp/project-team-a\"\n",
        "LOCAL_FOLDER_TEAM_B=\"/tmp/project-team-b\"\n",
        "client.download_project(project_path=f\"{WORKSPACE}/{PROJECT}-team-a\", directory=LOCAL_FOLDER_TEAM_A)\n",
        "client.download_project(project_path=f\"{WORKSPACE}/{PROJECT}-team-b\", directory=LOCAL_FOLDER_TEAM_B)"
      ]
    },
    {
      "cell_type": "markdown",
      "id": "10ea77c1-98b7-4d22-ac2c-a2b051db400e",
      "metadata": {},
      "source": [
        "Let's add 20 trees to the geopackage for each team. See geopackages prepared for this example in the [./03_projects_assets](./03_projects_assets) folder."
      ]
    },
    {
      "cell_type": "code",
      "execution_count": null,
      "id": "11c18fc4-3202-498f-a733-7bf76f069926",
      "metadata": {
        "trusted": true
      },
      "outputs": [
        {
          "data": {
            "text/plain": [
              "'/tmp/project-team-b/Ready_to_survey_trees.gpkg'"
            ]
          },
          "execution_count": 9,
          "metadata": {},
          "output_type": "execute_result"
        }
      ],
      "source": [
        "# copy geopackage for team A to .gpkg file in LOCAL_FOLDER_TEAM_A\n",
        "import shutil\n",
        "shutil.copyfile(\n",
        "    f\"./03_projects_assets/Ready_to_survey_trees_team_A.gpkg\",\n",
        "    f\"{LOCAL_FOLDER_TEAM_A}/Ready_to_survey_trees.gpkg\"\n",
        ")\n",
        "# copy geopackage for team B to .gpkg file in LOCAL_FOLDER_TEAM_B\n",
        "import shutil\n",
        "shutil.copyfile(\n",
        "    f\"./03_projects_assets/Ready_to_survey_trees_team_B.gpkg\",\n",
        "    f\"{LOCAL_FOLDER_TEAM_B}/Ready_to_survey_trees.gpkg\"\n",
        ")"
      ]
    },
    {
      "cell_type": "markdown",
      "id": "4ab30e8b",
      "metadata": {},
      "source": [
        "If you open your QGIS with projects for teams, you can see that every team is having different points to check.\n",
        "\n",
        "<img src=\"./03_projects_assets/team_a.png\" alt=\"Team A\" style=\"width: 200px;\"/> <img src=\"./03_projects_assets/team_b.png\" alt=\"Team B\" style=\"width: 200px;\"/>"
      ]
    },
    {
      "cell_type": "markdown",
      "id": "a53d4a66",
      "metadata": {},
      "source": [
        "Let's sync your changes with Mergin Maps."
      ]
    },
    {
      "cell_type": "code",
      "execution_count": 11,
      "id": "ce7aafe2-4e9d-4990-89f4-3654d9e15987",
      "metadata": {
        "trusted": true
      },
      "outputs": [],
      "source": [
        "client.push_project(directory=f\"{LOCAL_FOLDER_TEAM_A}\")\n",
        "client.push_project(directory=f\"{LOCAL_FOLDER_TEAM_B}\")"
      ]
    },
    {
      "cell_type": "markdown",
      "id": "796d3cd2",
      "metadata": {},
      "source": [
        "If you have prepared data for your teams, you can now add some surveyors to projects. We can use the guest user role for this, as it only grants access to a specific projects. Let's add `john.doeA@example.com` and  `john.doeB@example.com` to the teams."
      ]
    },
    {
      "cell_type": "code",
      "execution_count": 12,
      "id": "d25078b0",
      "metadata": {},
      "outputs": [
        {
          "name": "stdout",
          "output_type": "stream",
          "text": [
            "WORKSPACE_ID: 60538\n"
          ]
        }
      ],
      "source": [
        "from mergin.common import WorkspaceRole\n",
        "\n",
        "# First, let's get workspace ID\n",
        "WORKSPACE_ID = None\n",
        "for p in client.workspaces_list():\n",
        "  if p['name'] == WORKSPACE:\n",
        "    WORKSPACE_ID = p['id']\n",
        "\n",
        "print(f\"WORKSPACE_ID: {WORKSPACE_ID}\")\n",
        "\n",
        "user_team_a = client.create_user(\n",
        "    email=\"john.doeA@example.com\",\n",
        "    password=\"JohnDoe123\",\n",
        "    workspace_id=WORKSPACE_ID,\n",
        "    workspace_role=WorkspaceRole.GUEST\n",
        ")\n",
        "user_team_b = client.create_user(\n",
        "    email=\"john.doeB@example.com\",\n",
        "    password=\"JohnDoe123\",\n",
        "    workspace_id=WORKSPACE_ID,\n",
        "    workspace_role=WorkspaceRole.GUEST\n",
        ")"
      ]
    },
    {
      "cell_type": "markdown",
      "id": "5ffce828",
      "metadata": {},
      "source": [
        "Created users do not have any permissions now. Let's add users as collaborators to the projects. They will be able to start the survey with Mergin Maps mobile application."
      ]
    },
    {
      "cell_type": "code",
      "execution_count": null,
      "id": "fd204b84",
      "metadata": {},
      "outputs": [
        {
          "data": {
            "text/plain": [
              "{'email': 'john.doeB@example.com',\n",
              " 'id': 122393,\n",
              " 'project_role': 'editor',\n",
              " 'role': 'editor',\n",
              " 'username': 'john.doeb',\n",
              " 'workspace_role': 'guest'}"
            ]
          },
          "execution_count": 15,
          "metadata": {},
          "output_type": "execute_result"
        }
      ],
      "source": [
        "from mergin.common import ProjectRole\n",
        "\n",
        "team_a_project = client.project_info(f\"{WORKSPACE}/{PROJECT}-team-a\")\n",
        "team_b_project = client.project_info(f\"{WORKSPACE}/{PROJECT}-team-b\")\n",
        "\n",
        "# Add users to the projects\n",
        "client.add_project_collaborator(\n",
        "    project_id=team_a_project.get(\"id\"), user=\"john.doeA@example.com\", project_role=ProjectRole.EDITOR\n",
        ")\n",
        "client.add_project_collaborator(\n",
        "    project_id=team_b_project.get(\"id\"), user=\"john.doeB@example.com\", project_role=ProjectRole.EDITOR\n",
        ")"
      ]
    },
    {
      "cell_type": "markdown",
      "id": "51879308-c8aa-480e-9f8c-530f282f4ec6",
      "metadata": {},
      "source": [
        "Let's delete cloned projects to make cleanup after the example.\n",
        "\n",
        "NOTE: using `delete_project_now` will bypass the default value `DELETED_PROJECT_EXPIRATION`. See: https://merginmaps.com/docs/server/environment/#data-synchronisation-and-management"
      ]
    },
    {
      "cell_type": "code",
      "execution_count": 16,
      "id": "62abc678-75fe-4f7e-9f71-8dddee05d81e",
      "metadata": {
        "trusted": true
      },
      "outputs": [],
      "source": [
        "client.delete_project_now(f\"{WORKSPACE}/{PROJECT}-team-a\")\n",
        "client.delete_project_now(f\"{WORKSPACE}/{PROJECT}-team-b\")"
      ]
    }
  ],
  "metadata": {
    "kernelspec": {
      "display_name": "python-api-client",
      "language": "python",
      "name": "python3"
    },
    "language_info": {
      "codemirror_mode": {
        "name": "ipython",
        "version": 3
      },
      "file_extension": ".py",
      "mimetype": "text/x-python",
      "name": "python",
      "nbconvert_exporter": "python",
      "pygments_lexer": "ipython3",
      "version": "3.10.14"
    }
  },
  "nbformat": 4,
  "nbformat_minor": 5
}
